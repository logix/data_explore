{
 "cells": [
  {
   "cell_type": "markdown",
   "metadata": {},
   "source": [
    "### 从雪球读取股票的历年营收与利润，并生成图表"
   ]
  },
  {
   "cell_type": "markdown",
   "metadata": {},
   "source": [
    "雪球提供了A股的财务报表数据，网页上以表格形式呈现，但我们希望可以通过更直观的图表来观察一家公司近年来的财务变化情况：\n",
    "* 通过requests来获取雪球个股的财报接口，取到json格式的数据；\n",
    "* 通过pandas解析，来看个股逐年的营收和理论的变化；\n",
    "\n",
    "该代码修改symbol（股票代码）变量，即可查看不同的个股图表："
   ]
  },
  {
   "cell_type": "code",
   "execution_count": 2,
   "metadata": {},
   "outputs": [
    {
     "data": {
      "text/plain": [
       "<matplotlib.axes._subplots.AxesSubplot at 0x2d40c5f19b0>"
      ]
     },
     "execution_count": 2,
     "metadata": {},
     "output_type": "execute_result"
    },
    {
     "data": {
      "image/png": "[encoded data removed]",
      "text/plain": [
       "<Figure size 936x432 with 1 Axes>"
      ]
     },
     "metadata": {},
     "output_type": "display_data"
    }
   ],
   "source": [
    "import requests,time\n",
    "import pandas as pd\n",
    "import matplotlib.pyplot as plt\n",
    "# 生成的图表x轴较长，设置下图像的尺寸\n",
    "plt.rcParams['figure.figsize'] = (13.0, 6.0) \n",
    "# 用于正常显示中文标签\n",
    "plt.rcParams[\"font.sans-serif\"]=['SimHei']  \n",
    "\n",
    "#输入股票代码\n",
    "symbol = \"300024\"\n",
    "symbol= \"SZ\"+symbol if symbol[0] in [\"0\", \"3\"] else \"SH\"+symbol\n",
    "period_count = 30\n",
    "url = \"https://stock.xueqiu.com/v5/stock/finance/cn/income.json?\" \\\n",
    "        \"symbol={}&type=all&is_detail=true&count={}&timestamp=1551920790723\".\\\n",
    "        format(symbol, period_count)\n",
    "header = {\n",
    "    \"User-Agent\": \"Mozilla/5.0 (Windows NT 10.0; Win64; x64) AppleWebKit/537.36 \" \\\n",
    "    \"(KHTML, like Gecko) Chrome/72.0.3626.119 Safari/537.36\",\n",
    "    \"Cookie\":\"xqat=b7976bbc7c727d829c190880008ddad3d44333e1;\",\n",
    "}\n",
    "data = requests.get(url, headers = header)\n",
    "data = pd.read_json(data.text, dtype=False, orient='records')\n",
    "title = data['data']['quote_name'] + '({})'.format(symbol)\n",
    "fin = pd.DataFrame(data['data']['list'])\n",
    "\n",
    "# 提取营业收入数据\n",
    "fin['total_revenue_val'] = fin[['total_revenue']].apply(lambda x : x[0][0], axis = 1)\n",
    "# 提取净利润数据\n",
    "fin['net_profit_val'] = fin[['net_profit']].apply(lambda x : x[0][0], axis = 1)\n",
    "# 提取转化时间\n",
    "fin['t'] = fin[['report_date']].apply(lambda x : time.strftime('%Y-%m', time.localtime(x[0]/1000)), axis = 1)\n",
    "# 输出柱状图\n",
    "fin[['t', 'total_revenue_val','net_profit_val']].plot(x='t', kind='bar',title=title, grid=True)\n"
   ]
  },
  {
   "cell_type": "markdown",
   "metadata": {},
   "source": [
    "这里只列出了营收和净利润的数据，api中还有很多的相关财务数据可供不同分析需求进行调用，只需修改要提取的字段即可"
   ]
  },
  {
   "cell_type": "code",
   "execution_count": null,
   "metadata": {},
   "outputs": [],
   "source": []
  }
 ],
 "metadata": {
  "kernelspec": {
   "display_name": "Python 3",
   "language": "python",
   "name": "python3"
  },
  "language_info": {
   "codemirror_mode": {
    "name": "ipython",
    "version": 3
   },
   "file_extension": ".py",
   "mimetype": "text/x-python",
   "name": "python",
   "nbconvert_exporter": "python",
   "pygments_lexer": "ipython3",
   "version": "3.7.1"
  }
 },
 "nbformat": 4,
 "nbformat_minor": 2
}
